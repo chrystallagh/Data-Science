{
 "cells": [
  {
   "cell_type": "markdown",
   "metadata": {},
   "source": [
    "# Predicting Future Tempreture\n",
    "                                    Chrystalla Havadjia"
   ]
  },
  {
   "cell_type": "code",
   "execution_count": 1,
   "metadata": {},
   "outputs": [],
   "source": [
    "import pandas as pd\n",
    "import numpy as np"
   ]
  },
  {
   "cell_type": "code",
   "execution_count": 2,
   "metadata": {},
   "outputs": [
    {
     "data": {
      "text/html": [
       "<div>\n",
       "<style scoped>\n",
       "    .dataframe tbody tr th:only-of-type {\n",
       "        vertical-align: middle;\n",
       "    }\n",
       "\n",
       "    .dataframe tbody tr th {\n",
       "        vertical-align: top;\n",
       "    }\n",
       "\n",
       "    .dataframe thead th {\n",
       "        text-align: right;\n",
       "    }\n",
       "</style>\n",
       "<table border=\"1\" class=\"dataframe\">\n",
       "  <thead>\n",
       "    <tr style=\"text-align: right;\">\n",
       "      <th></th>\n",
       "      <th>datetime</th>\n",
       "      <th>temperature</th>\n",
       "      <th>humidity</th>\n",
       "      <th>pressure</th>\n",
       "      <th>weather</th>\n",
       "      <th>wind_direction</th>\n",
       "      <th>wind_speed</th>\n",
       "    </tr>\n",
       "  </thead>\n",
       "  <tbody>\n",
       "    <tr>\n",
       "      <th>0</th>\n",
       "      <td>2017-11-20 01:00:00</td>\n",
       "      <td>295.72</td>\n",
       "      <td>26.0</td>\n",
       "      <td>1014.0</td>\n",
       "      <td>sky is clear</td>\n",
       "      <td>270.0</td>\n",
       "      <td>2.0</td>\n",
       "    </tr>\n",
       "    <tr>\n",
       "      <th>1</th>\n",
       "      <td>2017-11-20 02:00:00</td>\n",
       "      <td>292.97</td>\n",
       "      <td>30.0</td>\n",
       "      <td>1014.0</td>\n",
       "      <td>light rain</td>\n",
       "      <td>260.0</td>\n",
       "      <td>2.0</td>\n",
       "    </tr>\n",
       "    <tr>\n",
       "      <th>2</th>\n",
       "      <td>2017-11-20 03:00:00</td>\n",
       "      <td>290.71</td>\n",
       "      <td>25.0</td>\n",
       "      <td>1016.0</td>\n",
       "      <td>sky is clear</td>\n",
       "      <td>270.0</td>\n",
       "      <td>1.0</td>\n",
       "    </tr>\n",
       "    <tr>\n",
       "      <th>3</th>\n",
       "      <td>2017-11-20 04:00:00</td>\n",
       "      <td>290.09</td>\n",
       "      <td>72.0</td>\n",
       "      <td>1016.0</td>\n",
       "      <td>sky is clear</td>\n",
       "      <td>356.0</td>\n",
       "      <td>0.0</td>\n",
       "    </tr>\n",
       "    <tr>\n",
       "      <th>4</th>\n",
       "      <td>2017-11-20 05:00:00</td>\n",
       "      <td>289.03</td>\n",
       "      <td>44.0</td>\n",
       "      <td>1016.0</td>\n",
       "      <td>sky is clear</td>\n",
       "      <td>27.0</td>\n",
       "      <td>1.0</td>\n",
       "    </tr>\n",
       "    <tr>\n",
       "      <th>5</th>\n",
       "      <td>2017-11-20 06:00:00</td>\n",
       "      <td>287.21</td>\n",
       "      <td>76.0</td>\n",
       "      <td>1016.0</td>\n",
       "      <td>sky is clear</td>\n",
       "      <td>27.0</td>\n",
       "      <td>1.0</td>\n",
       "    </tr>\n",
       "    <tr>\n",
       "      <th>6</th>\n",
       "      <td>2017-11-20 07:00:00</td>\n",
       "      <td>286.53</td>\n",
       "      <td>76.0</td>\n",
       "      <td>1016.0</td>\n",
       "      <td>sky is clear</td>\n",
       "      <td>27.0</td>\n",
       "      <td>1.0</td>\n",
       "    </tr>\n",
       "    <tr>\n",
       "      <th>7</th>\n",
       "      <td>2017-11-20 08:00:00</td>\n",
       "      <td>285.90</td>\n",
       "      <td>76.0</td>\n",
       "      <td>1016.0</td>\n",
       "      <td>sky is clear</td>\n",
       "      <td>100.0</td>\n",
       "      <td>2.0</td>\n",
       "    </tr>\n",
       "    <tr>\n",
       "      <th>8</th>\n",
       "      <td>2017-11-20 09:00:00</td>\n",
       "      <td>285.23</td>\n",
       "      <td>76.0</td>\n",
       "      <td>1016.0</td>\n",
       "      <td>sky is clear</td>\n",
       "      <td>36.0</td>\n",
       "      <td>1.0</td>\n",
       "    </tr>\n",
       "    <tr>\n",
       "      <th>9</th>\n",
       "      <td>2017-11-20 10:00:00</td>\n",
       "      <td>284.31</td>\n",
       "      <td>71.0</td>\n",
       "      <td>1016.0</td>\n",
       "      <td>haze</td>\n",
       "      <td>36.0</td>\n",
       "      <td>1.0</td>\n",
       "    </tr>\n",
       "  </tbody>\n",
       "</table>\n",
       "</div>"
      ],
      "text/plain": [
       "              datetime  temperature  humidity  pressure       weather  \\\n",
       "0  2017-11-20 01:00:00       295.72      26.0    1014.0  sky is clear   \n",
       "1  2017-11-20 02:00:00       292.97      30.0    1014.0    light rain   \n",
       "2  2017-11-20 03:00:00       290.71      25.0    1016.0  sky is clear   \n",
       "3  2017-11-20 04:00:00       290.09      72.0    1016.0  sky is clear   \n",
       "4  2017-11-20 05:00:00       289.03      44.0    1016.0  sky is clear   \n",
       "5  2017-11-20 06:00:00       287.21      76.0    1016.0  sky is clear   \n",
       "6  2017-11-20 07:00:00       286.53      76.0    1016.0  sky is clear   \n",
       "7  2017-11-20 08:00:00       285.90      76.0    1016.0  sky is clear   \n",
       "8  2017-11-20 09:00:00       285.23      76.0    1016.0  sky is clear   \n",
       "9  2017-11-20 10:00:00       284.31      71.0    1016.0          haze   \n",
       "\n",
       "   wind_direction  wind_speed  \n",
       "0           270.0         2.0  \n",
       "1           260.0         2.0  \n",
       "2           270.0         1.0  \n",
       "3           356.0         0.0  \n",
       "4            27.0         1.0  \n",
       "5            27.0         1.0  \n",
       "6            27.0         1.0  \n",
       "7           100.0         2.0  \n",
       "8            36.0         1.0  \n",
       "9            36.0         1.0  "
      ]
     },
     "execution_count": 2,
     "metadata": {},
     "output_type": "execute_result"
    }
   ],
   "source": [
    "df_test = pd.read_csv(r'./ps6_test.csv')\n",
    "df_test.head(10)"
   ]
  },
  {
   "cell_type": "code",
   "execution_count": 3,
   "metadata": {
    "scrolled": true
   },
   "outputs": [
    {
     "data": {
      "text/html": [
       "<div>\n",
       "<style scoped>\n",
       "    .dataframe tbody tr th:only-of-type {\n",
       "        vertical-align: middle;\n",
       "    }\n",
       "\n",
       "    .dataframe tbody tr th {\n",
       "        vertical-align: top;\n",
       "    }\n",
       "\n",
       "    .dataframe thead th {\n",
       "        text-align: right;\n",
       "    }\n",
       "</style>\n",
       "<table border=\"1\" class=\"dataframe\">\n",
       "  <thead>\n",
       "    <tr style=\"text-align: right;\">\n",
       "      <th></th>\n",
       "      <th>datetime</th>\n",
       "      <th>temperature</th>\n",
       "      <th>humidity</th>\n",
       "      <th>pressure</th>\n",
       "      <th>weather</th>\n",
       "      <th>wind_direction</th>\n",
       "      <th>wind_speed</th>\n",
       "    </tr>\n",
       "  </thead>\n",
       "  <tbody>\n",
       "    <tr>\n",
       "      <th>0</th>\n",
       "      <td>2012-10-01 12:00:00</td>\n",
       "      <td>NaN</td>\n",
       "      <td>NaN</td>\n",
       "      <td>NaN</td>\n",
       "      <td>NaN</td>\n",
       "      <td>NaN</td>\n",
       "      <td>NaN</td>\n",
       "    </tr>\n",
       "    <tr>\n",
       "      <th>1</th>\n",
       "      <td>2012-10-01 13:00:00</td>\n",
       "      <td>291.870000</td>\n",
       "      <td>88.0</td>\n",
       "      <td>1013.0</td>\n",
       "      <td>mist</td>\n",
       "      <td>0.0</td>\n",
       "      <td>0.0</td>\n",
       "    </tr>\n",
       "    <tr>\n",
       "      <th>2</th>\n",
       "      <td>2012-10-01 14:00:00</td>\n",
       "      <td>291.868186</td>\n",
       "      <td>88.0</td>\n",
       "      <td>1013.0</td>\n",
       "      <td>sky is clear</td>\n",
       "      <td>0.0</td>\n",
       "      <td>0.0</td>\n",
       "    </tr>\n",
       "  </tbody>\n",
       "</table>\n",
       "</div>"
      ],
      "text/plain": [
       "              datetime  temperature  humidity  pressure       weather  \\\n",
       "0  2012-10-01 12:00:00          NaN       NaN       NaN           NaN   \n",
       "1  2012-10-01 13:00:00   291.870000      88.0    1013.0          mist   \n",
       "2  2012-10-01 14:00:00   291.868186      88.0    1013.0  sky is clear   \n",
       "\n",
       "   wind_direction  wind_speed  \n",
       "0             NaN         NaN  \n",
       "1             0.0         0.0  \n",
       "2             0.0         0.0  "
      ]
     },
     "execution_count": 3,
     "metadata": {},
     "output_type": "execute_result"
    }
   ],
   "source": [
    "df = pd.read_csv(r'./ps6_trainvalid.csv')\n",
    "df.head(3)"
   ]
  },
  {
   "cell_type": "markdown",
   "metadata": {},
   "source": [
    "____\n",
    "# Data Exploration"
   ]
  },
  {
   "cell_type": "code",
   "execution_count": 4,
   "metadata": {
    "scrolled": true
   },
   "outputs": [
    {
     "name": "stdout",
     "output_type": "stream",
     "text": [
      "datetime :  False\n",
      "temperature :  True\n",
      "humidity :  True\n",
      "pressure :  True\n",
      "weather :  True\n",
      "wind_direction :  True\n",
      "wind_speed :  True\n"
     ]
    }
   ],
   "source": [
    "for column in df:\n",
    "    print(column, \": \", df[column].isnull().values.any())"
   ]
  },
  {
   "cell_type": "code",
   "execution_count": 5,
   "metadata": {},
   "outputs": [
    {
     "name": "stdout",
     "output_type": "stream",
     "text": [
      "<class 'pandas.core.frame.DataFrame'>\n",
      "RangeIndex: 45013 entries, 0 to 45012\n",
      "Data columns (total 7 columns):\n",
      " #   Column          Non-Null Count  Dtype  \n",
      "---  ------          --------------  -----  \n",
      " 0   datetime        45013 non-null  object \n",
      " 1   temperature     45010 non-null  float64\n",
      " 2   humidity        44861 non-null  float64\n",
      " 3   pressure        44761 non-null  float64\n",
      " 4   weather         45012 non-null  object \n",
      " 5   wind_direction  45012 non-null  float64\n",
      " 6   wind_speed      45012 non-null  float64\n",
      "dtypes: float64(5), object(2)\n",
      "memory usage: 2.4+ MB\n"
     ]
    }
   ],
   "source": [
    "df.info()"
   ]
  },
  {
   "cell_type": "code",
   "execution_count": 6,
   "metadata": {},
   "outputs": [
    {
     "data": {
      "text/html": [
       "<div>\n",
       "<style scoped>\n",
       "    .dataframe tbody tr th:only-of-type {\n",
       "        vertical-align: middle;\n",
       "    }\n",
       "\n",
       "    .dataframe tbody tr th {\n",
       "        vertical-align: top;\n",
       "    }\n",
       "\n",
       "    .dataframe thead th {\n",
       "        text-align: right;\n",
       "    }\n",
       "</style>\n",
       "<table border=\"1\" class=\"dataframe\">\n",
       "  <thead>\n",
       "    <tr style=\"text-align: right;\">\n",
       "      <th></th>\n",
       "      <th>temperature</th>\n",
       "      <th>humidity</th>\n",
       "      <th>pressure</th>\n",
       "      <th>wind_direction</th>\n",
       "      <th>wind_speed</th>\n",
       "    </tr>\n",
       "  </thead>\n",
       "  <tbody>\n",
       "    <tr>\n",
       "      <th>count</th>\n",
       "      <td>45010.000000</td>\n",
       "      <td>44861.000000</td>\n",
       "      <td>44761.000000</td>\n",
       "      <td>45012.000000</td>\n",
       "      <td>45012.000000</td>\n",
       "    </tr>\n",
       "    <tr>\n",
       "      <th>mean</th>\n",
       "      <td>290.841547</td>\n",
       "      <td>62.823767</td>\n",
       "      <td>1015.915127</td>\n",
       "      <td>139.733804</td>\n",
       "      <td>1.220652</td>\n",
       "    </tr>\n",
       "    <tr>\n",
       "      <th>std</th>\n",
       "      <td>6.465152</td>\n",
       "      <td>21.786687</td>\n",
       "      <td>11.316175</td>\n",
       "      <td>105.545576</td>\n",
       "      <td>1.435687</td>\n",
       "    </tr>\n",
       "    <tr>\n",
       "      <th>min</th>\n",
       "      <td>266.503667</td>\n",
       "      <td>5.000000</td>\n",
       "      <td>886.000000</td>\n",
       "      <td>0.000000</td>\n",
       "      <td>0.000000</td>\n",
       "    </tr>\n",
       "    <tr>\n",
       "      <th>25%</th>\n",
       "      <td>286.370000</td>\n",
       "      <td>48.000000</td>\n",
       "      <td>1013.000000</td>\n",
       "      <td>29.000000</td>\n",
       "      <td>0.000000</td>\n",
       "    </tr>\n",
       "    <tr>\n",
       "      <th>50%</th>\n",
       "      <td>290.530000</td>\n",
       "      <td>66.000000</td>\n",
       "      <td>1016.000000</td>\n",
       "      <td>140.000000</td>\n",
       "      <td>1.000000</td>\n",
       "    </tr>\n",
       "    <tr>\n",
       "      <th>75%</th>\n",
       "      <td>295.080000</td>\n",
       "      <td>81.000000</td>\n",
       "      <td>1021.000000</td>\n",
       "      <td>230.000000</td>\n",
       "      <td>2.000000</td>\n",
       "    </tr>\n",
       "    <tr>\n",
       "      <th>max</th>\n",
       "      <td>315.470000</td>\n",
       "      <td>100.000000</td>\n",
       "      <td>1044.000000</td>\n",
       "      <td>360.000000</td>\n",
       "      <td>17.000000</td>\n",
       "    </tr>\n",
       "  </tbody>\n",
       "</table>\n",
       "</div>"
      ],
      "text/plain": [
       "        temperature      humidity      pressure  wind_direction    wind_speed\n",
       "count  45010.000000  44861.000000  44761.000000    45012.000000  45012.000000\n",
       "mean     290.841547     62.823767   1015.915127      139.733804      1.220652\n",
       "std        6.465152     21.786687     11.316175      105.545576      1.435687\n",
       "min      266.503667      5.000000    886.000000        0.000000      0.000000\n",
       "25%      286.370000     48.000000   1013.000000       29.000000      0.000000\n",
       "50%      290.530000     66.000000   1016.000000      140.000000      1.000000\n",
       "75%      295.080000     81.000000   1021.000000      230.000000      2.000000\n",
       "max      315.470000    100.000000   1044.000000      360.000000     17.000000"
      ]
     },
     "execution_count": 6,
     "metadata": {},
     "output_type": "execute_result"
    }
   ],
   "source": [
    "df.describe()"
   ]
  },
  {
   "cell_type": "markdown",
   "metadata": {},
   "source": [
    "______\n",
    "# Data Preprocessing\n",
    "- Convert DateTime \n",
    "- Impute missing values for features with missing values\n",
    "    - Forward feed impute values. This makes sence with time-series data as its most likley that the weather have not drastically changes in an hour\n",
    "    - Remove first impute since ffill cannot impute it\n",
    "- One Hot encode Catagorical data\n",
    "    -  reduce the number of uniqe values in weather column to help with one hot encoding"
   ]
  },
  {
   "cell_type": "code",
   "execution_count": 7,
   "metadata": {},
   "outputs": [
    {
     "data": {
      "text/html": [
       "<div>\n",
       "<style scoped>\n",
       "    .dataframe tbody tr th:only-of-type {\n",
       "        vertical-align: middle;\n",
       "    }\n",
       "\n",
       "    .dataframe tbody tr th {\n",
       "        vertical-align: top;\n",
       "    }\n",
       "\n",
       "    .dataframe thead th {\n",
       "        text-align: right;\n",
       "    }\n",
       "</style>\n",
       "<table border=\"1\" class=\"dataframe\">\n",
       "  <thead>\n",
       "    <tr style=\"text-align: right;\">\n",
       "      <th></th>\n",
       "      <th>datetime</th>\n",
       "      <th>temperature</th>\n",
       "      <th>humidity</th>\n",
       "      <th>pressure</th>\n",
       "      <th>weather</th>\n",
       "      <th>wind_direction</th>\n",
       "      <th>wind_speed</th>\n",
       "    </tr>\n",
       "  </thead>\n",
       "  <tbody>\n",
       "    <tr>\n",
       "      <th>1</th>\n",
       "      <td>2012-10-01 13:00:00</td>\n",
       "      <td>291.870000</td>\n",
       "      <td>88.0</td>\n",
       "      <td>1013.0</td>\n",
       "      <td>mist</td>\n",
       "      <td>0.0</td>\n",
       "      <td>0.0</td>\n",
       "    </tr>\n",
       "    <tr>\n",
       "      <th>2</th>\n",
       "      <td>2012-10-01 14:00:00</td>\n",
       "      <td>291.868186</td>\n",
       "      <td>88.0</td>\n",
       "      <td>1013.0</td>\n",
       "      <td>sky is clear</td>\n",
       "      <td>0.0</td>\n",
       "      <td>0.0</td>\n",
       "    </tr>\n",
       "    <tr>\n",
       "      <th>3</th>\n",
       "      <td>2012-10-01 15:00:00</td>\n",
       "      <td>291.862844</td>\n",
       "      <td>88.0</td>\n",
       "      <td>1013.0</td>\n",
       "      <td>sky is clear</td>\n",
       "      <td>0.0</td>\n",
       "      <td>0.0</td>\n",
       "    </tr>\n",
       "  </tbody>\n",
       "</table>\n",
       "</div>"
      ],
      "text/plain": [
       "              datetime  temperature  humidity  pressure       weather  \\\n",
       "1  2012-10-01 13:00:00   291.870000      88.0    1013.0          mist   \n",
       "2  2012-10-01 14:00:00   291.868186      88.0    1013.0  sky is clear   \n",
       "3  2012-10-01 15:00:00   291.862844      88.0    1013.0  sky is clear   \n",
       "\n",
       "   wind_direction  wind_speed  \n",
       "1             0.0         0.0  \n",
       "2             0.0         0.0  \n",
       "3             0.0         0.0  "
      ]
     },
     "execution_count": 7,
     "metadata": {},
     "output_type": "execute_result"
    }
   ],
   "source": [
    "#fill forward - this makes sence with time series data\n",
    "df.ffill(inplace = True)\n",
    "#Drop fist line of missing values\n",
    "df.dropna(inplace= True)\n",
    "df.head(3)"
   ]
  },
  {
   "cell_type": "code",
   "execution_count": 8,
   "metadata": {},
   "outputs": [
    {
     "name": "stdout",
     "output_type": "stream",
     "text": [
      "datetime :  False\n",
      "temperature :  False\n",
      "humidity :  False\n",
      "pressure :  False\n",
      "weather :  False\n",
      "wind_direction :  False\n",
      "wind_speed :  False\n"
     ]
    }
   ],
   "source": [
    "for column in df:\n",
    "    print(column, \": \", df[column].isnull().values.any())"
   ]
  },
  {
   "cell_type": "code",
   "execution_count": 9,
   "metadata": {
    "scrolled": true
   },
   "outputs": [
    {
     "name": "stdout",
     "output_type": "stream",
     "text": [
      "<class 'pandas.core.frame.DataFrame'>\n",
      "Int64Index: 45012 entries, 1 to 45012\n",
      "Data columns (total 7 columns):\n",
      " #   Column          Non-Null Count  Dtype  \n",
      "---  ------          --------------  -----  \n",
      " 0   datetime        45012 non-null  object \n",
      " 1   temperature     45012 non-null  float64\n",
      " 2   humidity        45012 non-null  float64\n",
      " 3   pressure        45012 non-null  float64\n",
      " 4   weather         45012 non-null  object \n",
      " 5   wind_direction  45012 non-null  float64\n",
      " 6   wind_speed      45012 non-null  float64\n",
      "dtypes: float64(5), object(2)\n",
      "memory usage: 2.7+ MB\n"
     ]
    }
   ],
   "source": [
    "df.info()"
   ]
  },
  {
   "cell_type": "code",
   "execution_count": 10,
   "metadata": {},
   "outputs": [
    {
     "data": {
      "text/plain": [
       "array(['mist', 'sky is clear', 'fog', 'haze', 'few clouds',\n",
       "       'overcast clouds', 'scattered clouds', 'broken clouds',\n",
       "       'light rain', 'thunderstorm with rain', 'moderate rain',\n",
       "       'thunderstorm', 'shower rain', 'smoke', 'drizzle',\n",
       "       'light intensity drizzle', 'heavy intensity rain',\n",
       "       'light intensity shower rain', 'very heavy rain',\n",
       "       'thunderstorm with light rain', 'proximity thunderstorm',\n",
       "       'thunderstorm with heavy rain', 'squalls', 'dust',\n",
       "       'proximity shower rain'], dtype=object)"
      ]
     },
     "execution_count": 10,
     "metadata": {},
     "output_type": "execute_result"
    }
   ],
   "source": [
    "# One Hot Encode weather\n",
    "df['weather'].unique()"
   ]
  },
  {
   "cell_type": "code",
   "execution_count": 11,
   "metadata": {},
   "outputs": [],
   "source": [
    "# reduce the number of uniqe values in weather column to help with one hot encoding\n",
    "\n",
    "replace_clouds = ['few clouds', 'overcast clouds', 'scattered clouds', 'broken clouds']\n",
    "replace_rain = ['light rain', 'moderate rain', 'shower rain','heavy intensity rain',\n",
    "                'light intensity shower rain', 'very heavy rain','proximity shower rain']\n",
    "replace_thund = ['thunderstorm with rain','thunderstorm with light rain', 'proximity thunderstorm',\n",
    "       'thunderstorm with heavy rain']\n",
    "replace_unclear = ['mist','fog']\n",
    "replace_dust = ['smoke','haze','dust']\n",
    "replace_drizzle = ['drizzle','light intensity drizzle']\n",
    "\n",
    "df.replace(to_replace = replace_clouds , value= 'clouds', inplace=True)\n",
    "df.replace(to_replace = replace_rain , value= 'rain', inplace=True)\n",
    "df.replace(to_replace = replace_thund , value= 'thunder', inplace=True)\n",
    "df.replace(to_replace = replace_unclear , value= 'fog/mist', inplace=True)\n",
    "df.replace(to_replace = replace_dust , value= 'dust', inplace=True)\n",
    "df.replace(to_replace = replace_drizzle , value= 'drizzle', inplace=True)\n",
    "\n",
    "df_test.replace(to_replace = replace_clouds , value= 'clouds', inplace=True)\n",
    "df_test.replace(to_replace = replace_rain , value= 'rain', inplace=True)\n",
    "df_test.replace(to_replace = replace_thund , value= 'thunder', inplace=True)\n",
    "df_test.replace(to_replace = replace_unclear , value= 'fog/mist', inplace=True)\n",
    "df_test.replace(to_replace = replace_dust , value= 'dust', inplace=True)\n",
    "df_test.replace(to_replace = replace_drizzle , value= 'drizzle', inplace=True)\n"
   ]
  },
  {
   "cell_type": "code",
   "execution_count": 12,
   "metadata": {},
   "outputs": [
    {
     "data": {
      "text/plain": [
       "array(['fog/mist', 'sky is clear', 'dust', 'clouds', 'rain', 'thunder',\n",
       "       'thunderstorm', 'drizzle', 'squalls'], dtype=object)"
      ]
     },
     "execution_count": 12,
     "metadata": {},
     "output_type": "execute_result"
    }
   ],
   "source": [
    "df['weather'].unique()"
   ]
  },
  {
   "cell_type": "code",
   "execution_count": 13,
   "metadata": {},
   "outputs": [],
   "source": [
    "#function for creating dummy variables\n",
    "def get_dummies(df,col_name):\n",
    "\n",
    "    \"\"\"Method to one hot encode categorical data\n",
    "\n",
    "      Returns one hot encoded dataframe\n",
    "    \"\"\"\n",
    "\n",
    "    dummies_cols = pd.get_dummies(df[col_name]).columns\n",
    "    df[dummies_cols] = pd.get_dummies(df[col_name])\n",
    "\n",
    "    return df"
   ]
  },
  {
   "cell_type": "code",
   "execution_count": 14,
   "metadata": {},
   "outputs": [],
   "source": [
    "df = get_dummies(df, 'weather')\n",
    "del df['weather']\n",
    "\n",
    "df_test = get_dummies(df_test, 'weather')\n",
    "del df_test['weather']"
   ]
  },
  {
   "cell_type": "code",
   "execution_count": 15,
   "metadata": {
    "scrolled": true
   },
   "outputs": [],
   "source": [
    "#subsample data into day intervals\n",
    "days = df[0::24].copy()\n",
    "#days"
   ]
  },
  {
   "cell_type": "code",
   "execution_count": 16,
   "metadata": {
    "scrolled": false
   },
   "outputs": [
    {
     "data": {
      "image/png": "[encoded data removed]",
      "text/plain": [
       "<Figure size 432x288 with 3 Axes>"
      ]
     },
     "metadata": {
      "needs_background": "light"
     },
     "output_type": "display_data"
    },
    {
     "data": {
      "image/png": "[encoded data removed]",
      "text/plain": [
       "<Figure size 432x288 with 3 Axes>"
      ]
     },
     "metadata": {
      "needs_background": "light"
     },
     "output_type": "display_data"
    },
    {
     "data": {
      "image/png": "[encoded data removed]",
      "text/plain": [
       "<Figure size 432x288 with 3 Axes>"
      ]
     },
     "metadata": {
      "needs_background": "light"
     },
     "output_type": "display_data"
    }
   ],
   "source": [
    "plot_cols = ['temperature', 'humidity','rain']\n",
    "plot_features = days[plot_cols]\n",
    "#plot_features.index = days\n",
    "_ = plot_features.plot(subplots=True)\n",
    "\n",
    "plot_features = days[plot_cols][:365]\n",
    "#plot_features.index = days[:365]\n",
    "_ = plot_features.plot(subplots=True)\n",
    "\n",
    "plot_features = df[plot_cols][:672] #hours in a month 672\n",
    "#plot_features.index = days[:365]\n",
    "_ = plot_features.plot(subplots=True)"
   ]
  },
  {
   "cell_type": "markdown",
   "metadata": {},
   "source": [
    "### Split and Normalize the Data\n",
    "- Scaling data for Neural Networks"
   ]
  },
  {
   "cell_type": "code",
   "execution_count": 17,
   "metadata": {},
   "outputs": [],
   "source": [
    "#ensure that date time is in time stamp form\n",
    "\n",
    "column_indices = {name: i for i, name in enumerate(df.columns)}\n",
    "\n",
    "n = len(df)\n",
    "train_df = df[0:int(n*0.7)]\n",
    "val_df = df[int(n*0.7):int(n*0.9)]\n",
    "\n",
    "\n",
    "#num_features = df.shape[1]\n",
    "\n",
    "#df[\"datetime\"] = pd.to_datetime(df[\"datetime\"])"
   ]
  },
  {
   "cell_type": "code",
   "execution_count": 18,
   "metadata": {},
   "outputs": [],
   "source": [
    "del train_df['datetime']\n",
    "del val_df['datetime']\n",
    "\n",
    "temp_test = df_test.copy()\n",
    "del temp_test['datetime']\n",
    "\n",
    "train_mean = train_df.mean()\n",
    "train_std = train_df.std()\n",
    "\n",
    "\n",
    "train_df = (train_df - train_mean) /(train_std)\n",
    "val_df = (val_df - train_mean) /(train_std)\n",
    "test_df = (temp_test - train_mean) / train_std\n",
    "\n",
    "train_X = train_df.copy()\n",
    "val_X = val_df.copy()\n",
    "test_X = test_df.copy()\n",
    "\n",
    "y_train = train_X['temperature']\n",
    "y_val = val_X['temperature']\n",
    "y_test = test_X['temperature']\n",
    "\n",
    "del train_X['temperature']\n",
    "del val_X['temperature']\n",
    "del test_X['temperature']\n",
    "\n"
   ]
  },
  {
   "cell_type": "code",
   "execution_count": 19,
   "metadata": {},
   "outputs": [
    {
     "name": "stdout",
     "output_type": "stream",
     "text": [
      "14\n"
     ]
    }
   ],
   "source": [
    "num_features = train_df.shape[1]\n",
    "print(num_features)"
   ]
  },
  {
   "cell_type": "code",
   "execution_count": 20,
   "metadata": {
    "scrolled": false
   },
   "outputs": [
    {
     "name": "stdout",
     "output_type": "stream",
     "text": [
      "<class 'pandas.core.series.Series'>\n",
      "[ 0.26627944  0.26599875  0.26517252 ... -0.43139057 -0.50873758\n",
      " -0.5288478 ]\n"
     ]
    }
   ],
   "source": [
    "print(type(y_train))\n",
    "print(y_train.values)"
   ]
  },
  {
   "cell_type": "markdown",
   "metadata": {},
   "source": [
    "_______\n",
    "# Baseline Model\n",
    "- Baseline models are used to help show that the trained model is preforming well, better than a basiline model\n",
    "- Predict everything as mean temperature"
   ]
  },
  {
   "cell_type": "code",
   "execution_count": 21,
   "metadata": {},
   "outputs": [
    {
     "name": "stdout",
     "output_type": "stream",
     "text": [
      "MSE:  0.97717696\n",
      "MAE:  0.788477\n"
     ]
    }
   ],
   "source": [
    "import tensorflow as tf\n",
    "from tensorflow import keras\n",
    "\n",
    "# Predict everything as mean temperature\n",
    "y_pred = y_val.mean()\n",
    "\n",
    "\n",
    "baseline_MSE = np.mean(keras.losses.mean_squared_error(y_val, y_pred))\n",
    "baseline_MAE = np.mean(keras.losses.mean_absolute_error(y_val, y_pred))\n",
    "                  \n",
    "print(\"MSE: \", baseline_MSE)\n",
    "print(\"MAE: \", baseline_MAE)\n"
   ]
  },
  {
   "cell_type": "markdown",
   "metadata": {},
   "source": [
    "## Window"
   ]
  },
  {
   "cell_type": "code",
   "execution_count": 22,
   "metadata": {},
   "outputs": [],
   "source": [
    "class WindowGenerator():\n",
    "    def __init__(self, input_width, label_width, shift,\n",
    "               train_df=train_df, val_df=val_df, test_df=test_df,\n",
    "               label_columns=None):\n",
    "        \n",
    "        self.train_df = train_df\n",
    "        self.val_df = val_df\n",
    "        self.test_df = test_df\n",
    "\n",
    "        self.label_columns = label_columns\n",
    "        if label_columns is not None:\n",
    "            self.label_columns_indices = {name: i for i, name in\n",
    "                                        enumerate(label_columns)}\n",
    "        self.column_indices = {name: i for i, name in\n",
    "                               enumerate(train_df.columns)}\n",
    "\n",
    "        self.input_width = input_width\n",
    "        self.label_width = label_width\n",
    "        self.shift = shift\n",
    "\n",
    "        self.total_window_size = input_width + shift\n",
    "\n",
    "        self.input_slice = slice(0, input_width)\n",
    "        self.input_indices = np.arange(self.total_window_size)[self.input_slice]\n",
    "\n",
    "        self.label_start = self.total_window_size - self.label_width\n",
    "        self.labels_slice = slice(self.label_start, None)\n",
    "        self.label_indices = np.arange(self.total_window_size)[self.labels_slice]\n",
    "\n",
    "    def __repr__(self):\n",
    "        return '\\n'.join([\n",
    "            f'Total window size: {self.total_window_size}',\n",
    "            f'Input indices: {self.input_indices}',\n",
    "            f'Label indices: {self.label_indices}',\n",
    "            f'Label column name(s): {self.label_columns}'])"
   ]
  },
  {
   "cell_type": "code",
   "execution_count": 23,
   "metadata": {},
   "outputs": [],
   "source": [
    "def split_window(self, features):\n",
    "    inputs = features[:, self.input_slice, :]\n",
    "    labels = features[:, self.labels_slice, :]\n",
    "    if self.label_columns is not None:\n",
    "        labels = tf.stack(\n",
    "            [labels[:, :, self.column_indices[name]] for name in self.label_columns],\n",
    "            axis=-1)\n",
    "\n",
    "    # Slicing doesn't preserve static shape information, so set the shapes\n",
    "    # manually. This way the `tf.data.Datasets` are easier to inspect.\n",
    "    inputs.set_shape([None, self.input_width, None])\n",
    "    labels.set_shape([None, self.label_width, None])\n",
    "\n",
    "    return inputs, labels\n",
    "\n",
    "WindowGenerator.split_window = split_window"
   ]
  },
  {
   "cell_type": "markdown",
   "metadata": {},
   "source": [
    "### Convert dataset to tf.data.Dataset"
   ]
  },
  {
   "cell_type": "code",
   "execution_count": 24,
   "metadata": {},
   "outputs": [],
   "source": [
    "def make_dataset(self, data):\n",
    "    data = np.array(data, dtype=np.float32)\n",
    "    ds = tf.keras.preprocessing.timeseries_dataset_from_array(\n",
    "              data=data,\n",
    "              targets=None,\n",
    "              sequence_length=self.total_window_size,\n",
    "              sequence_stride=1,\n",
    "              shuffle=True,\n",
    "              batch_size=10,)\n",
    "\n",
    "    ds = ds.map(self.split_window)\n",
    "\n",
    "    return ds\n",
    "\n",
    "WindowGenerator.make_dataset = make_dataset"
   ]
  },
  {
   "cell_type": "code",
   "execution_count": 25,
   "metadata": {},
   "outputs": [],
   "source": [
    "@property\n",
    "def train(self):\n",
    "    return self.make_dataset(self.train_df)\n",
    "\n",
    "@property\n",
    "def val(self):\n",
    "    return self.make_dataset(self.val_df)\n",
    "\n",
    "@property\n",
    "def test(self):\n",
    "    return self.make_dataset(self.test_df)\n",
    "\n",
    "@property\n",
    "def example(self):\n",
    "    result = getattr(self, '_example', None)\n",
    "    if result is None:\n",
    "        result = next(iter(self.train))\n",
    "        self._example = result\n",
    "    return result\n",
    "\n",
    "WindowGenerator.train = train\n",
    "WindowGenerator.val = val\n",
    "WindowGenerator.test = test\n",
    "WindowGenerator.example = example"
   ]
  },
  {
   "cell_type": "markdown",
   "metadata": {},
   "source": [
    "### Defining Different Time Step Models"
   ]
  },
  {
   "cell_type": "code",
   "execution_count": 26,
   "metadata": {
    "scrolled": true
   },
   "outputs": [],
   "source": [
    "#predicts 24 hours into the future\n",
    "w1 = WindowGenerator(input_width=24, label_width=1, shift=24,\n",
    "                     label_columns=['temperature'])\n",
    "#w1"
   ]
  },
  {
   "cell_type": "code",
   "execution_count": 27,
   "metadata": {},
   "outputs": [],
   "source": [
    "# #define single step model to predict one hour in the future\n",
    "single_step_window = WindowGenerator(\n",
    "    input_width=1, label_width=1, shift=1,\n",
    "    label_columns=['temperature'])\n",
    "\n",
    "#single_step_window"
   ]
  },
  {
   "cell_type": "code",
   "execution_count": 28,
   "metadata": {},
   "outputs": [],
   "source": [
    "CONV_WIDTH = 240  # 240 hour inputs/ 10 days of inputs\n",
    "conv_window = WindowGenerator(\n",
    "    input_width=CONV_WIDTH,\n",
    "    label_width=24, # 1 day lables\n",
    "    shift=240,\n",
    "    label_columns=['temperature'])\n",
    "\n",
    "#conv_window"
   ]
  },
  {
   "cell_type": "markdown",
   "metadata": {},
   "source": [
    "________\n",
    "# Linear Model - Simple model"
   ]
  },
  {
   "cell_type": "code",
   "execution_count": 29,
   "metadata": {},
   "outputs": [],
   "source": [
    "MAX_EPOCHS = 20\n",
    "val_performance = {}\n",
    "performance = {}\n",
    "\n",
    "\n",
    "def compile_and_fit(model, window, patience=2):\n",
    "    early_stopping = tf.keras.callbacks.EarlyStopping(monitor='val_loss',\n",
    "                                                    patience=patience,\n",
    "                                                    mode='min')\n",
    "\n",
    "    model.compile(loss=tf.losses.MeanSquaredError(),\n",
    "                optimizer=tf.optimizers.Adam(),\n",
    "                metrics=[tf.metrics.MeanAbsoluteError()])\n",
    "\n",
    "    history = model.fit(window.train, epochs=MAX_EPOCHS,\n",
    "                      validation_data=window.val,\n",
    "                      callbacks=[early_stopping])\n",
    "    return history"
   ]
  },
  {
   "cell_type": "code",
   "execution_count": 30,
   "metadata": {},
   "outputs": [],
   "source": [
    "linear = tf.keras.Sequential([\n",
    "    tf.keras.layers.Dense(units=1)\n",
    "])"
   ]
  },
  {
   "cell_type": "markdown",
   "metadata": {},
   "source": [
    "### Singel step Linear Model"
   ]
  },
  {
   "cell_type": "code",
   "execution_count": 31,
   "metadata": {
    "scrolled": true
   },
   "outputs": [
    {
     "name": "stdout",
     "output_type": "stream",
     "text": [
      "Epoch 1/20\n",
      "3151/3151 [==============================] - 8s 2ms/step - loss: 1.0917 - mean_absolute_error: 0.4233 - val_loss: 0.6174 - val_mean_absolute_error: 0.1818\n",
      "Epoch 2/20\n",
      "3151/3151 [==============================] - 7s 2ms/step - loss: 0.4303 - mean_absolute_error: 0.1966 - val_loss: 0.3548 - val_mean_absolute_error: 0.1708\n",
      "Epoch 3/20\n",
      "3151/3151 [==============================] - 7s 2ms/step - loss: 0.2224 - mean_absolute_error: 0.1885 - val_loss: 0.2363 - val_mean_absolute_error: 0.1649\n",
      "Epoch 4/20\n",
      "3151/3151 [==============================] - 7s 2ms/step - loss: 0.1294 - mean_absolute_error: 0.1827 - val_loss: 0.1743 - val_mean_absolute_error: 0.1616\n",
      "Epoch 5/20\n",
      "3151/3151 [==============================] - 7s 2ms/step - loss: 0.0988 - mean_absolute_error: 0.1797 - val_loss: 0.1293 - val_mean_absolute_error: 0.1599\n",
      "Epoch 6/20\n",
      "3151/3151 [==============================] - 7s 2ms/step - loss: 0.0855 - mean_absolute_error: 0.1793 - val_loss: 0.0961 - val_mean_absolute_error: 0.1598\n",
      "Epoch 7/20\n",
      "3151/3151 [==============================] - 7s 2ms/step - loss: 0.0756 - mean_absolute_error: 0.1791 - val_loss: 0.0729 - val_mean_absolute_error: 0.1584\n",
      "Epoch 8/20\n",
      "3151/3151 [==============================] - 7s 2ms/step - loss: 0.0692 - mean_absolute_error: 0.1789 - val_loss: 0.0604 - val_mean_absolute_error: 0.1561\n",
      "Epoch 9/20\n",
      "3151/3151 [==============================] - 7s 2ms/step - loss: 0.0657 - mean_absolute_error: 0.1786 - val_loss: 0.0572 - val_mean_absolute_error: 0.1557\n",
      "Epoch 10/20\n",
      "3151/3151 [==============================] - 7s 2ms/step - loss: 0.0649 - mean_absolute_error: 0.1785 - val_loss: 0.0583 - val_mean_absolute_error: 0.1578\n",
      "Epoch 11/20\n",
      "3151/3151 [==============================] - 7s 2ms/step - loss: 0.0651 - mean_absolute_error: 0.1785 - val_loss: 0.0578 - val_mean_absolute_error: 0.1565\n"
     ]
    }
   ],
   "source": [
    "history = compile_and_fit(linear, single_step_window)"
   ]
  },
  {
   "cell_type": "code",
   "execution_count": 52,
   "metadata": {},
   "outputs": [
    {
     "name": "stdout",
     "output_type": "stream",
     "text": [
      "901/901 [==============================] - 2s 2ms/step - loss: 0.3473 - mean_absolute_error: 0.4677\n",
      "[0.3473319709300995, 0.4677097499370575]\n"
     ]
    }
   ],
   "source": [
    "print(linear.evaluate(single_step_window.val))"
   ]
  },
  {
   "cell_type": "code",
   "execution_count": 32,
   "metadata": {
    "scrolled": false
   },
   "outputs": [
    {
     "name": "stdout",
     "output_type": "stream",
     "text": [
      "Epoch 1/20\n",
      "3147/3147 [==============================] - 8s 2ms/step - loss: 0.7010 - mean_absolute_error: 0.6642 - val_loss: 0.7074 - val_mean_absolute_error: 0.6659\n",
      "Epoch 2/20\n",
      "3147/3147 [==============================] - 7s 2ms/step - loss: 0.6632 - mean_absolute_error: 0.6506 - val_loss: 0.7078 - val_mean_absolute_error: 0.6657\n",
      "Epoch 3/20\n",
      "3147/3147 [==============================] - 9s 3ms/step - loss: 0.6634 - mean_absolute_error: 0.6508 - val_loss: 0.7067 - val_mean_absolute_error: 0.6651\n",
      "Epoch 4/20\n",
      "3147/3147 [==============================] - 8s 2ms/step - loss: 0.6637 - mean_absolute_error: 0.6509 - val_loss: 0.7074 - val_mean_absolute_error: 0.6654\n",
      "Epoch 5/20\n",
      "3147/3147 [==============================] - 8s 3ms/step - loss: 0.6637 - mean_absolute_error: 0.6509 - val_loss: 0.7067 - val_mean_absolute_error: 0.6653\n",
      "896/896 [==============================] - 2s 2ms/step - loss: 0.7067 - mean_absolute_error: 0.6653\n"
     ]
    }
   ],
   "source": [
    "history = compile_and_fit(linear, w1)\n",
    "\n",
    "val_performance['Linear'] = linear.evaluate(w1.val)\n",
    "performance['Linear'] = linear.evaluate(w1.test, verbose=0)"
   ]
  },
  {
   "cell_type": "markdown",
   "metadata": {},
   "source": [
    "### Feature Importance for Linear Model"
   ]
  },
  {
   "cell_type": "code",
   "execution_count": 33,
   "metadata": {
    "scrolled": false
   },
   "outputs": [
    {
     "data": {
      "image/png": "[encoded data removed]",
      "text/plain": [
       "<Figure size 432x288 with 1 Axes>"
      ]
     },
     "metadata": {
      "needs_background": "light"
     },
     "output_type": "display_data"
    }
   ],
   "source": [
    "import matplotlib.pyplot as plt\n",
    "\n",
    "plt.bar(x = range(len(train_df.columns)),\n",
    "        height=linear.layers[0].kernel[:,0].numpy())\n",
    "axis = plt.gca()\n",
    "axis.set_xticks(range(len(train_df.columns)))\n",
    "_ = axis.set_xticklabels(train_df.columns, rotation=90)"
   ]
  },
  {
   "cell_type": "markdown",
   "metadata": {},
   "source": [
    "_______\n",
    "# Train LSTM - RNN Model"
   ]
  },
  {
   "cell_type": "code",
   "execution_count": 34,
   "metadata": {},
   "outputs": [],
   "source": [
    "# can be trained on 24h data at a time\n",
    "lstm_model = tf.keras.models.Sequential([\n",
    "    tf.keras.layers.LSTM(10, return_sequences=True),\n",
    "    tf.keras.layers.Dense(units=1)\n",
    "])"
   ]
  },
  {
   "cell_type": "code",
   "execution_count": 35,
   "metadata": {
    "scrolled": true
   },
   "outputs": [
    {
     "name": "stdout",
     "output_type": "stream",
     "text": [
      "Epoch 1/20\n",
      "3147/3147 [==============================] - 46s 14ms/step - loss: 0.6409 - mean_absolute_error: 0.6328 - val_loss: 0.4529 - val_mean_absolute_error: 0.5108\n",
      "Epoch 2/20\n",
      "3147/3147 [==============================] - 40s 13ms/step - loss: 0.3323 - mean_absolute_error: 0.4460 - val_loss: 0.4163 - val_mean_absolute_error: 0.4864\n",
      "Epoch 3/20\n",
      "3147/3147 [==============================] - 38s 12ms/step - loss: 0.2810 - mean_absolute_error: 0.4084 - val_loss: 0.3988 - val_mean_absolute_error: 0.4720\n",
      "Epoch 4/20\n",
      "3147/3147 [==============================] - 38s 12ms/step - loss: 0.2592 - mean_absolute_error: 0.3917 - val_loss: 0.3863 - val_mean_absolute_error: 0.4646\n",
      "Epoch 5/20\n",
      "3147/3147 [==============================] - 42s 13ms/step - loss: 0.2493 - mean_absolute_error: 0.3835 - val_loss: 0.3599 - val_mean_absolute_error: 0.4460\n",
      "Epoch 6/20\n",
      "3147/3147 [==============================] - 43s 14ms/step - loss: 0.2410 - mean_absolute_error: 0.3764 - val_loss: 0.3359 - val_mean_absolute_error: 0.4288\n",
      "Epoch 7/20\n",
      "3147/3147 [==============================] - 42s 13ms/step - loss: 0.2353 - mean_absolute_error: 0.3718 - val_loss: 0.3221 - val_mean_absolute_error: 0.4208\n",
      "Epoch 8/20\n",
      "3147/3147 [==============================] - 41s 13ms/step - loss: 0.2313 - mean_absolute_error: 0.3686 - val_loss: 0.3170 - val_mean_absolute_error: 0.4169\n",
      "Epoch 9/20\n",
      "3147/3147 [==============================] - 42s 13ms/step - loss: 0.2276 - mean_absolute_error: 0.3649 - val_loss: 0.3267 - val_mean_absolute_error: 0.4255\n",
      "Epoch 10/20\n",
      "3147/3147 [==============================] - 41s 13ms/step - loss: 0.2243 - mean_absolute_error: 0.3620 - val_loss: 0.3190 - val_mean_absolute_error: 0.4182\n",
      "896/896 [==============================] - 4s 4ms/step - loss: 0.3190 - mean_absolute_error: 0.4182\n"
     ]
    }
   ],
   "source": [
    "history = compile_and_fit(lstm_model, w1)\n",
    "\n",
    "val_performance['LSTM'] = lstm_model.evaluate(w1.val)\n",
    "performance['LSTM'] = lstm_model.evaluate(w1.test, verbose=0)"
   ]
  },
  {
   "cell_type": "markdown",
   "metadata": {},
   "source": [
    "________\n",
    "# Train Simple RNN Model"
   ]
  },
  {
   "cell_type": "code",
   "execution_count": 36,
   "metadata": {
    "scrolled": true
   },
   "outputs": [
    {
     "name": "stdout",
     "output_type": "stream",
     "text": [
      "Epoch 1/20\n",
      "3147/3147 [==============================] - 25s 8ms/step - loss: 0.7103 - mean_absolute_error: 0.6347 - val_loss: 0.2733 - val_mean_absolute_error: 0.3596\n",
      "Epoch 2/20\n",
      "3147/3147 [==============================] - 20s 6ms/step - loss: 0.2396 - mean_absolute_error: 0.3489 - val_loss: 0.2743 - val_mean_absolute_error: 0.3617\n",
      "Epoch 3/20\n",
      "3147/3147 [==============================] - 21s 7ms/step - loss: 0.2391 - mean_absolute_error: 0.3488 - val_loss: 0.2741 - val_mean_absolute_error: 0.3615\n",
      "896/896 [==============================] - 3s 3ms/step - loss: 0.2741 - mean_absolute_error: 0.3615\n"
     ]
    }
   ],
   "source": [
    "simpleRNN_model = keras.models.Sequential([\n",
    "  keras.layers.SimpleRNN(1)])\n",
    "\n",
    "history = compile_and_fit(simpleRNN_model, w1)\n",
    "\n",
    "val_performance['RNN'] = simpleRNN_model.evaluate(w1.val)\n",
    "performance['RNN'] = simpleRNN_model.evaluate(w1.test, verbose=0)"
   ]
  },
  {
   "cell_type": "code",
   "execution_count": 37,
   "metadata": {},
   "outputs": [],
   "source": [
    "val_performance['Baseline'] = [0.977 , 0.788]"
   ]
  },
  {
   "cell_type": "code",
   "execution_count": 38,
   "metadata": {},
   "outputs": [
    {
     "data": {
      "image/png": "[encoded data removed]",
      "text/plain": [
       "<Figure size 432x288 with 1 Axes>"
      ]
     },
     "metadata": {
      "needs_background": "light"
     },
     "output_type": "display_data"
    }
   ],
   "source": [
    "x = np.arange(len(val_performance))\n",
    "width = 0.3\n",
    "\n",
    "metric_name = 'mean_absolute_error'\n",
    "metric_index = lstm_model.metrics_names.index('mean_absolute_error')\n",
    "val_mae = [v[metric_index] for v in val_performance.values()]\n",
    "#test_mae = [v[metric_index] for v in performance.values()]\n",
    "\n",
    "\n",
    "plt.bar(x - 0.17, val_mae, width, label='Validation')\n",
    "#plt.bar(x + 0.17, test_mae, width, label='Test')\n",
    "plt.xticks(ticks=x, labels=val_performance.keys(),\n",
    "           rotation=45)\n",
    "plt.ylabel('MAE (average over all outputs)')\n",
    "_ = plt.legend()"
   ]
  },
  {
   "cell_type": "code",
   "execution_count": 45,
   "metadata": {},
   "outputs": [
    {
     "name": "stdout",
     "output_type": "stream",
     "text": [
      "{'Linear': [0.7067275643348694, 0.6652976870536804], 'LSTM': [0.31899532675743103, 0.41820478439331055], 'RNN': [0.27414488792419434, 0.36152902245521545], 'Baseline': [0.977, 0.788]}\n"
     ]
    }
   ],
   "source": [
    "print(val_performance)"
   ]
  },
  {
   "cell_type": "markdown",
   "metadata": {},
   "source": [
    "## Multi - Window Analysis - predict 24 hours in future"
   ]
  },
  {
   "cell_type": "code",
   "execution_count": 47,
   "metadata": {},
   "outputs": [
    {
     "data": {
      "text/plain": [
       "Total window size: 48\n",
       "Input indices: [ 0  1  2  3  4  5  6  7  8  9 10 11 12 13 14 15 16 17 18 19 20 21 22 23]\n",
       "Label indices: [24 25 26 27 28 29 30 31 32 33 34 35 36 37 38 39 40 41 42 43 44 45 46 47]\n",
       "Label column name(s): ['temperature']"
      ]
     },
     "execution_count": 47,
     "metadata": {},
     "output_type": "execute_result"
    }
   ],
   "source": [
    "OUT_STEPS = 24 # predict 24 hours ahead\n",
    "multi_window = WindowGenerator(input_width=24, #use 24 hours to predict next 24 hours\n",
    "                               label_width=OUT_STEPS,\n",
    "                               shift=OUT_STEPS,\n",
    "                              label_columns=['temperature'])\n",
    "\n",
    "multi_window"
   ]
  },
  {
   "cell_type": "code",
   "execution_count": 48,
   "metadata": {},
   "outputs": [
    {
     "name": "stdout",
     "output_type": "stream",
     "text": [
      "Epoch 1/20\n",
      "3103/3103 [==============================] - 12s 4ms/step - loss: 0.9602 - mean_absolute_error: 0.7130 - val_loss: 0.8489 - val_mean_absolute_error: 0.7407\n",
      "Epoch 2/20\n",
      "3103/3103 [==============================] - 12s 4ms/step - loss: 0.5484 - mean_absolute_error: 0.5995 - val_loss: 0.8374 - val_mean_absolute_error: 0.7372\n",
      "Epoch 3/20\n",
      "3103/3103 [==============================] - 12s 4ms/step - loss: 0.5032 - mean_absolute_error: 0.5798 - val_loss: 0.8393 - val_mean_absolute_error: 0.7190\n",
      "Epoch 4/20\n",
      "3103/3103 [==============================] - 12s 4ms/step - loss: 0.4792 - mean_absolute_error: 0.5694 - val_loss: 0.8780 - val_mean_absolute_error: 0.7402\n",
      "853/853 [==============================] - 2s 3ms/step - loss: 0.8780 - mean_absolute_error: 0.7402\n"
     ]
    }
   ],
   "source": [
    "multi_val_performance ={}\n",
    "\n",
    "conv_model = tf.keras.Sequential([\n",
    "    tf.keras.layers.Conv1D(filters=32,\n",
    "                           kernel_size=(CONV_WIDTH,),\n",
    "                           activation='relu'),\n",
    "    tf.keras.layers.Dense(units=32, activation='relu'),\n",
    "    tf.keras.layers.Dense(units=1),\n",
    "])\n",
    "\n",
    "history = compile_and_fit(conv_model, conv_window)\n",
    "\n",
    "multi_val_performance['conv'] = conv_model.evaluate(conv_window.val)"
   ]
  },
  {
   "cell_type": "code",
   "execution_count": 49,
   "metadata": {},
   "outputs": [
    {
     "name": "stdout",
     "output_type": "stream",
     "text": [
      "Epoch 1/20\n",
      "3147/3147 [==============================] - 46s 14ms/step - loss: 0.4231 - mean_absolute_error: 0.4864 - val_loss: 0.2382 - val_mean_absolute_error: 0.3436\n",
      "Epoch 2/20\n",
      "3147/3147 [==============================] - 41s 13ms/step - loss: 0.1304 - mean_absolute_error: 0.2711 - val_loss: 0.1999 - val_mean_absolute_error: 0.3134\n",
      "Epoch 3/20\n",
      "3147/3147 [==============================] - 42s 13ms/step - loss: 0.1183 - mean_absolute_error: 0.2563 - val_loss: 0.1859 - val_mean_absolute_error: 0.2985\n",
      "Epoch 4/20\n",
      "3147/3147 [==============================] - 39s 12ms/step - loss: 0.1117 - mean_absolute_error: 0.2475 - val_loss: 0.1826 - val_mean_absolute_error: 0.2932\n",
      "Epoch 5/20\n",
      "3147/3147 [==============================] - 41s 13ms/step - loss: 0.1083 - mean_absolute_error: 0.2430 - val_loss: 0.1827 - val_mean_absolute_error: 0.2901\n",
      "Epoch 6/20\n",
      "3147/3147 [==============================] - 38s 12ms/step - loss: 0.1068 - mean_absolute_error: 0.2408 - val_loss: 0.1837 - val_mean_absolute_error: 0.2910\n",
      "896/896 [==============================] - 3s 3ms/step - loss: 0.1837 - mean_absolute_error: 0.2910\n"
     ]
    }
   ],
   "source": [
    "multi_lstm_model = tf.keras.Sequential([\n",
    "    tf.keras.layers.LSTM(10, return_sequences=False),\n",
    "    tf.keras.layers.Dense(OUT_STEPS*num_features,\n",
    "                          kernel_initializer=tf.initializers.zeros()),\n",
    "    tf.keras.layers.Reshape([OUT_STEPS, num_features])\n",
    "])\n",
    "\n",
    "history = compile_and_fit(multi_lstm_model, multi_window)\n",
    "\n",
    "\n",
    "multi_val_performance['LSTM'] = multi_lstm_model.evaluate(multi_window.val)\n"
   ]
  },
  {
   "cell_type": "code",
   "execution_count": 55,
   "metadata": {
    "scrolled": true
   },
   "outputs": [
    {
     "name": "stdout",
     "output_type": "stream",
     "text": [
      "Epoch 1/20\n",
      "3147/3147 [==============================] - 20s 6ms/step - loss: 0.6125 - mean_absolute_error: 0.6246 - val_loss: 0.6889 - val_mean_absolute_error: 0.6429\n",
      "Epoch 2/20\n",
      "3147/3147 [==============================] - 17s 5ms/step - loss: 0.6077 - mean_absolute_error: 0.6224 - val_loss: 0.6312 - val_mean_absolute_error: 0.6212\n",
      "Epoch 3/20\n",
      "3147/3147 [==============================] - 17s 5ms/step - loss: 0.5782 - mean_absolute_error: 0.6111 - val_loss: 0.6012 - val_mean_absolute_error: 0.6046\n",
      "Epoch 4/20\n",
      "3147/3147 [==============================] - 17s 5ms/step - loss: 0.5718 - mean_absolute_error: 0.6090 - val_loss: 0.5976 - val_mean_absolute_error: 0.6047\n",
      "Epoch 5/20\n",
      "3147/3147 [==============================] - 18s 6ms/step - loss: 0.5723 - mean_absolute_error: 0.6093 - val_loss: 0.5992 - val_mean_absolute_error: 0.6075\n",
      "Epoch 6/20\n",
      "3147/3147 [==============================] - 19s 6ms/step - loss: 0.5721 - mean_absolute_error: 0.6094 - val_loss: 0.5980 - val_mean_absolute_error: 0.6029\n",
      "896/896 [==============================] - 3s 3ms/step - loss: 0.5980 - mean_absolute_error: 0.6029\n"
     ]
    }
   ],
   "source": [
    "history = compile_and_fit(simpleRNN_model, multi_window)\n",
    "\n",
    "multi_val_performance['RNN'] = simpleRNN_model.evaluate(multi_window.val)"
   ]
  },
  {
   "cell_type": "code",
   "execution_count": 56,
   "metadata": {},
   "outputs": [
    {
     "data": {
      "image/png": "[encoded data removed]",
      "text/plain": [
       "<Figure size 432x288 with 1 Axes>"
      ]
     },
     "metadata": {
      "needs_background": "light"
     },
     "output_type": "display_data"
    }
   ],
   "source": [
    "multi_val_performance['Baseline'] = [0.977 , 0.788]\n",
    "\n",
    "x = np.arange(len(multi_val_performance))\n",
    "width = 0.3\n",
    "\n",
    "\n",
    "metric_name = 'mean_absolute_error'\n",
    "metric_index = lstm_model.metrics_names.index('mean_absolute_error')\n",
    "val_mae = [v[metric_index] for v in multi_val_performance.values()]\n",
    "\n",
    "plt.bar(x - 0.17, val_mae, width, label='Validation')\n",
    "plt.xticks(ticks=x, labels=multi_val_performance.keys(),\n",
    "           rotation=45)\n",
    "plt.ylabel(f'MAE (predict 24 hours in future)')\n",
    "_ = plt.legend()"
   ]
  },
  {
   "cell_type": "code",
   "execution_count": 57,
   "metadata": {
    "scrolled": false
   },
   "outputs": [
    {
     "name": "stdout",
     "output_type": "stream",
     "text": [
      "{'conv': [0.8780413269996643, 0.7401525378227234], 'LSTM': [0.18374870717525482, 0.2909727394580841], 'Baseline': [0.977, 0.788], 'RNN': [0.5979623198509216, 0.6029170751571655]}\n"
     ]
    }
   ],
   "source": [
    "print(multi_val_performance)"
   ]
  },
  {
   "cell_type": "markdown",
   "metadata": {},
   "source": [
    "## LSTM has best MES scores and is the selected model\n",
    "### Using LSTM Model test how long into the future it can predict"
   ]
  },
  {
   "cell_type": "code",
   "execution_count": 83,
   "metadata": {
    "scrolled": false
   },
   "outputs": [],
   "source": [
    "OUT_STEPS = 24 # predict X hours ahead\n",
    "test_window = WindowGenerator(input_width=120, #use X hours to predict next X hours\n",
    "                               label_width=OUT_STEPS,\n",
    "                               shift=OUT_STEPS,\n",
    "                              label_columns=['temperature'])\n"
   ]
  },
  {
   "cell_type": "code",
   "execution_count": 84,
   "metadata": {
    "scrolled": false
   },
   "outputs": [
    {
     "name": "stdout",
     "output_type": "stream",
     "text": [
      "Epoch 1/20\n",
      "3137/3137 [==============================] - 179s 56ms/step - loss: 0.1007 - mean_absolute_error: 0.2332 - val_loss: 0.1840 - val_mean_absolute_error: 0.2896\n",
      "Epoch 2/20\n",
      "3137/3137 [==============================] - 169s 54ms/step - loss: 0.1001 - mean_absolute_error: 0.2323 - val_loss: 0.1861 - val_mean_absolute_error: 0.2907\n",
      "Epoch 3/20\n",
      "3137/3137 [==============================] - 174s 55ms/step - loss: 0.0993 - mean_absolute_error: 0.2315 - val_loss: 0.1896 - val_mean_absolute_error: 0.2914\n",
      "886/886 [==============================] - 9s 11ms/step - loss: 0.1896 - mean_absolute_error: 0.2914\n",
      "[0.18958894908428192, 0.29140129685401917]\n"
     ]
    }
   ],
   "source": [
    "history = compile_and_fit(multi_lstm_model, test_window)\n",
    "\n",
    "print(multi_lstm_model.evaluate(test_window.val))"
   ]
  },
  {
   "cell_type": "code",
   "execution_count": 101,
   "metadata": {},
   "outputs": [],
   "source": [
    "OUT_STEPS = 24 # predict X hours ahead\n",
    "test_window = WindowGenerator(input_width=240, #use X hours to predict next X hours\n",
    "                               label_width=OUT_STEPS,\n",
    "                               shift=OUT_STEPS,\n",
    "                              label_columns=['temperature'])"
   ]
  },
  {
   "cell_type": "code",
   "execution_count": 102,
   "metadata": {},
   "outputs": [
    {
     "name": "stdout",
     "output_type": "stream",
     "text": [
      "Epoch 1/20\n",
      "3125/3125 [==============================] - 332s 106ms/step - loss: 0.0976 - mean_absolute_error: 0.2310 - val_loss: 0.1995 - val_mean_absolute_error: 0.2982\n",
      "Epoch 2/20\n",
      "3125/3125 [==============================] - 325s 104ms/step - loss: 0.0969 - mean_absolute_error: 0.2300 - val_loss: 0.2021 - val_mean_absolute_error: 0.2997\n",
      "Epoch 3/20\n",
      "3125/3125 [==============================] - 329s 105ms/step - loss: 0.0964 - mean_absolute_error: 0.2295 - val_loss: 0.2057 - val_mean_absolute_error: 0.3049\n",
      "874/874 [==============================] - 17s 20ms/step - loss: 0.2057 - mean_absolute_error: 0.3049\n",
      "[0.2057262361049652, 0.30488619208335876]\n"
     ]
    }
   ],
   "source": [
    "history = compile_and_fit(multi_lstm_model, test_window)\n",
    "\n",
    "print(multi_lstm_model.evaluate(test_window.val))"
   ]
  },
  {
   "cell_type": "code",
   "execution_count": 114,
   "metadata": {},
   "outputs": [],
   "source": [
    "OUT_STEPS = 48 # predict X hours ahead\n",
    "test_window = WindowGenerator(input_width = 480, #use X hours to predict next X hours\n",
    "                               label_width=1,\n",
    "                               shift=480,\n",
    "                              label_columns=['temperature'])"
   ]
  },
  {
   "cell_type": "code",
   "execution_count": 115,
   "metadata": {},
   "outputs": [
    {
     "name": "stdout",
     "output_type": "stream",
     "text": [
      "Epoch 1/20\n",
      "3055/3055 [==============================] - 624s 203ms/step - loss: 0.4736 - mean_absolute_error: 0.5282 - val_loss: 0.4442 - val_mean_absolute_error: 0.5150\n",
      "Epoch 2/20\n",
      "3055/3055 [==============================] - 614s 201ms/step - loss: 0.3288 - mean_absolute_error: 0.4431 - val_loss: 0.4440 - val_mean_absolute_error: 0.5155\n",
      "Epoch 3/20\n",
      "3055/3055 [==============================] - 614s 201ms/step - loss: 0.3169 - mean_absolute_error: 0.4332 - val_loss: 0.4507 - val_mean_absolute_error: 0.5220\n",
      "Epoch 4/20\n",
      "3055/3055 [==============================] - 615s 201ms/step - loss: 0.2718 - mean_absolute_error: 0.4035 - val_loss: 0.4748 - val_mean_absolute_error: 0.5313\n",
      "805/805 [==============================] - 30s 37ms/step - loss: 0.4748 - mean_absolute_error: 0.5313\n",
      "[0.4748210906982422, 0.5312662720680237]\n"
     ]
    }
   ],
   "source": [
    "history = compile_and_fit(multi_lstm_model, test_window)\n",
    "\n",
    "print(multi_lstm_model.evaluate(test_window.val))"
   ]
  },
  {
   "cell_type": "code",
   "execution_count": 116,
   "metadata": {},
   "outputs": [],
   "source": [
    "test_window = WindowGenerator(input_width = 480, #use X hours to predict next X hours\n",
    "                               label_width=1,\n",
    "                               shift=24,\n",
    "                              label_columns=['temperature'])"
   ]
  },
  {
   "cell_type": "code",
   "execution_count": 117,
   "metadata": {},
   "outputs": [
    {
     "name": "stdout",
     "output_type": "stream",
     "text": [
      "Epoch 1/20\n",
      "3101/3101 [==============================] - 1383s 445ms/step - loss: 0.1615 - mean_absolute_error: 0.2963 - val_loss: 0.1915 - val_mean_absolute_error: 0.3120\n",
      "Epoch 2/20\n",
      "3101/3101 [==============================] - 728s 235ms/step - loss: 0.1268 - mean_absolute_error: 0.2578 - val_loss: 0.1871 - val_mean_absolute_error: 0.3087\n",
      "Epoch 3/20\n",
      "3101/3101 [==============================] - 634s 204ms/step - loss: 0.1216 - mean_absolute_error: 0.2528 - val_loss: 0.1884 - val_mean_absolute_error: 0.3090\n",
      "Epoch 4/20\n",
      "3101/3101 [==============================] - 657s 212ms/step - loss: 0.1189 - mean_absolute_error: 0.2505 - val_loss: 0.1937 - val_mean_absolute_error: 0.3127\n",
      "850/850 [==============================] - 29s 34ms/step - loss: 0.1937 - mean_absolute_error: 0.3127\n",
      "[0.19373291730880737, 0.3127371668815613]\n"
     ]
    }
   ],
   "source": [
    "history = compile_and_fit(multi_lstm_model, test_window)\n",
    "\n",
    "print(multi_lstm_model.evaluate(test_window.val))"
   ]
  },
  {
   "cell_type": "markdown",
   "metadata": {},
   "source": []
  }
 ],
 "metadata": {
  "kernelspec": {
   "display_name": "Python 3 (ipykernel)",
   "language": "python",
   "name": "python3"
  },
  "language_info": {
   "codemirror_mode": {
    "name": "ipython",
    "version": 3
   },
   "file_extension": ".py",
   "mimetype": "text/x-python",
   "name": "python",
   "nbconvert_exporter": "python",
   "pygments_lexer": "ipython3",
   "version": "3.9.7"
  }
 },
 "nbformat": 4,
 "nbformat_minor": 4
}
